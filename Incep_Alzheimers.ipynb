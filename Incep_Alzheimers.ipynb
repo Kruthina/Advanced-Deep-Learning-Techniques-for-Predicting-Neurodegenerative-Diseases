{
  "cells": [
    {
      "cell_type": "code",
      "execution_count": null,
      "metadata": {
        "id": "kdFEi4dKsU8V"
      },
      "outputs": [],
      "source": [
        "import pandas as pd\n",
        "import numpy as np\n",
        "import os\n",
        "import cv2\n",
        "import matplotlib.pyplot as plt\n",
        "import warnings\n",
        "\n",
        "from tensorflow.keras.layers import Input, Lambda, Dense, Flatten, Dropout\n",
        "from tensorflow.keras.models import Model\n",
        "from tensorflow.keras.applications.vgg19 import VGG19\n",
        "from tensorflow.keras.applications.vgg19 import preprocess_input\n",
        "from tensorflow.keras.preprocessing import image, image_dataset_from_directory\n",
        "from tensorflow.keras.preprocessing.image import ImageDataGenerator\n",
        "from tensorflow.keras.models import Sequential\n",
        "from tensorflow import keras\n",
        "import tensorflow\n",
        "import tensorflow as tf"
      ]
    },
    {
      "cell_type": "code",
      "execution_count": null,
      "metadata": {
        "colab": {
          "base_uri": "https://localhost:8080/"
        },
        "id": "zXygx5AdtjRB",
        "outputId": "dd86ec62-e0df-4b3f-b976-ed763230f350"
      },
      "outputs": [
        {
          "name": "stdout",
          "output_type": "stream",
          "text": [
            "Mounted at /content/drive\n"
          ]
        }
      ],
      "source": [
        "from google.colab import drive\n",
        "drive.mount('/content/drive')"
      ]
    },
    {
      "cell_type": "code",
      "execution_count": null,
      "metadata": {
        "id": "lUxkcaJPtpx5"
      },
      "outputs": [],
      "source": []
    },
    {
      "cell_type": "code",
      "execution_count": null,
      "metadata": {
        "id": "thAnqtphtjUK"
      },
      "outputs": [],
      "source": []
    },
    {
      "cell_type": "code",
      "execution_count": null,
      "metadata": {
        "colab": {
          "base_uri": "https://localhost:8080/"
        },
        "id": "OKxLzjAHshUK",
        "outputId": "ec4bda04-51c3-463c-9f30-b8fa2edfa36a"
      },
      "outputs": [
        {
          "output_type": "stream",
          "name": "stdout",
          "text": [
            "Found 5125 files belonging to 4 classes.\n",
            "Using 4100 files for training.\n",
            "Found 5125 files belonging to 4 classes.\n",
            "Using 1025 files for validation.\n",
            "Found 1279 files belonging to 4 classes.\n"
          ]
        }
      ],
      "source": [
        "train_ds = tf.keras.preprocessing.image_dataset_from_directory(\n",
        "    \"/content/drive/MyDrive/Alzheimers/train\",\n",
        "    validation_split=0.2,\n",
        "    subset=\"training\",\n",
        "    seed=1337,\n",
        "    image_size=[180, 180],\n",
        "    batch_size=16,\n",
        ")\n",
        "\n",
        "val_ds = tf.keras.preprocessing.image_dataset_from_directory(\n",
        "    \"/content/drive/MyDrive/Alzheimers//train\",\n",
        "    validation_split=0.2,\n",
        "    subset=\"validation\",\n",
        "    seed=1337,\n",
        "    image_size=[180, 180],\n",
        "    batch_size=16 ,\n",
        ")\n",
        "\n",
        "test_ds = tf.keras.preprocessing.image_dataset_from_directory(\n",
        "    \"/content/drive/MyDrive/Alzheimers/test\",\n",
        "    seed=1337,\n",
        "    image_size=[180, 180],\n",
        "    batch_size=16 ,\n",
        ")"
      ]
    },
    {
      "cell_type": "code",
      "execution_count": null,
      "metadata": {
        "colab": {
          "base_uri": "https://localhost:8080/"
        },
        "id": "o5yqv2N2tieT",
        "outputId": "99b7d01c-c1e6-48ad-84b1-7b7b47377c8e"
      },
      "outputs": [
        {
          "output_type": "execute_result",
          "data": {
            "text/plain": [
              "(4, ['MildDemented', 'ModerateDemented', 'NonDemented', 'VeryMildDemented'])"
            ]
          },
          "metadata": {},
          "execution_count": 4
        }
      ],
      "source": [
        "classnames = train_ds.class_names\n",
        "len(classnames),train_ds.class_names"
      ]
    },
    {
      "cell_type": "code",
      "execution_count": null,
      "metadata": {
        "colab": {
          "base_uri": "https://localhost:8080/"
        },
        "id": "-gfStRvAtigm",
        "outputId": "b7c527a2-5db1-4a74-9c72-cc38ebc9aa49"
      },
      "outputs": [
        {
          "output_type": "execute_result",
          "data": {
            "text/plain": [
              "([717, 52, 2564, 1792],\n",
              " ['MildDemented', 'ModerateDemented', 'NonDemented', 'VeryMildDemented'])"
            ]
          },
          "metadata": {},
          "execution_count": 5
        }
      ],
      "source": [
        "NUM_IMAGES = []\n",
        "\n",
        "for label in classnames:\n",
        "    dir_name = \"/content/drive/MyDrive/Alzheimers/train/\" + label[:-2] +'ed'\n",
        "    NUM_IMAGES.append(len([name for name in os.listdir(dir_name)]))\n",
        "\n",
        "NUM_IMAGES,classnames"
      ]
    },
    {
      "cell_type": "code",
      "execution_count": null,
      "metadata": {
        "colab": {
          "base_uri": "https://localhost:8080/"
        },
        "id": "u4396n-zshXw",
        "outputId": "2f5ca450-e93e-42e2-becc-90fc5fb445d3"
      },
      "outputs": [
        {
          "output_type": "stream",
          "name": "stdout",
          "text": [
            "Found 5125 images belonging to 4 classes.\n"
          ]
        }
      ],
      "source": [
        "#Performing Image Augmentation to have more data samples\n",
        "from tensorflow.keras.preprocessing.image import ImageDataGenerator as IDG\n",
        "IMG_SIZE = 180\n",
        "IMAGE_SIZE = [180, 180]\n",
        "DIM = (IMG_SIZE, IMG_SIZE)\n",
        "ZOOM = [.99, 1.01]\n",
        "BRIGHT_RANGE = [0.8, 1.2]\n",
        "HORZ_FLIP = True\n",
        "FILL_MODE = \"constant\"\n",
        "DATA_FORMAT = \"channels_last\"\n",
        "WORK_DIR=\"/content/drive/MyDrive/Alzheimers/train\"\n",
        "work_dr = IDG(rescale = 1./255, brightness_range=BRIGHT_RANGE, zoom_range=ZOOM, data_format=DATA_FORMAT, fill_mode=FILL_MODE, horizontal_flip=HORZ_FLIP)\n",
        "\n",
        "train_data_gen = work_dr.flow_from_directory(directory=WORK_DIR, target_size=DIM, batch_size=6500, shuffle=False)\n"
      ]
    },
    {
      "cell_type": "code",
      "execution_count": null,
      "metadata": {
        "colab": {
          "base_uri": "https://localhost:8080/",
          "height": 311
        },
        "id": "ySvg4hKfshbs",
        "outputId": "19a6ed37-1915-4fb1-8798-642ac283dd42"
      },
      "outputs": [
        {
          "output_type": "error",
          "ename": "KeyboardInterrupt",
          "evalue": "ignored",
          "traceback": [
            "\u001b[0;31m---------------------------------------------------------------------------\u001b[0m",
            "\u001b[0;31mKeyboardInterrupt\u001b[0m                         Traceback (most recent call last)",
            "\u001b[0;32m<ipython-input-7-9452157eca03>\u001b[0m in \u001b[0;36m<cell line: 1>\u001b[0;34m()\u001b[0m\n\u001b[0;32m----> 1\u001b[0;31m \u001b[0mtrain_data\u001b[0m\u001b[0;34m,\u001b[0m \u001b[0mtrain_labels\u001b[0m \u001b[0;34m=\u001b[0m \u001b[0mtrain_data_gen\u001b[0m\u001b[0;34m.\u001b[0m\u001b[0mnext\u001b[0m\u001b[0;34m(\u001b[0m\u001b[0;34m)\u001b[0m\u001b[0;34m\u001b[0m\u001b[0;34m\u001b[0m\u001b[0m\n\u001b[0m",
            "\u001b[0;32m/usr/local/lib/python3.9/dist-packages/keras/preprocessing/image.py\u001b[0m in \u001b[0;36mnext\u001b[0;34m(self)\u001b[0m\n\u001b[1;32m    166\u001b[0m         \u001b[0;31m# The transformation of images is not under thread lock\u001b[0m\u001b[0;34m\u001b[0m\u001b[0;34m\u001b[0m\u001b[0m\n\u001b[1;32m    167\u001b[0m         \u001b[0;31m# so it can be done in parallel\u001b[0m\u001b[0;34m\u001b[0m\u001b[0;34m\u001b[0m\u001b[0m\n\u001b[0;32m--> 168\u001b[0;31m         \u001b[0;32mreturn\u001b[0m \u001b[0mself\u001b[0m\u001b[0;34m.\u001b[0m\u001b[0m_get_batches_of_transformed_samples\u001b[0m\u001b[0;34m(\u001b[0m\u001b[0mindex_array\u001b[0m\u001b[0;34m)\u001b[0m\u001b[0;34m\u001b[0m\u001b[0;34m\u001b[0m\u001b[0m\n\u001b[0m\u001b[1;32m    169\u001b[0m \u001b[0;34m\u001b[0m\u001b[0m\n\u001b[1;32m    170\u001b[0m     \u001b[0;32mdef\u001b[0m \u001b[0m_get_batches_of_transformed_samples\u001b[0m\u001b[0;34m(\u001b[0m\u001b[0mself\u001b[0m\u001b[0;34m,\u001b[0m \u001b[0mindex_array\u001b[0m\u001b[0;34m)\u001b[0m\u001b[0;34m:\u001b[0m\u001b[0;34m\u001b[0m\u001b[0;34m\u001b[0m\u001b[0m\n",
            "\u001b[0;32m/usr/local/lib/python3.9/dist-packages/keras/preprocessing/image.py\u001b[0m in \u001b[0;36m_get_batches_of_transformed_samples\u001b[0;34m(self, index_array)\u001b[0m\n\u001b[1;32m    368\u001b[0m         \u001b[0mfilepaths\u001b[0m \u001b[0;34m=\u001b[0m \u001b[0mself\u001b[0m\u001b[0;34m.\u001b[0m\u001b[0mfilepaths\u001b[0m\u001b[0;34m\u001b[0m\u001b[0;34m\u001b[0m\u001b[0m\n\u001b[1;32m    369\u001b[0m         \u001b[0;32mfor\u001b[0m \u001b[0mi\u001b[0m\u001b[0;34m,\u001b[0m \u001b[0mj\u001b[0m \u001b[0;32min\u001b[0m \u001b[0menumerate\u001b[0m\u001b[0;34m(\u001b[0m\u001b[0mindex_array\u001b[0m\u001b[0;34m)\u001b[0m\u001b[0;34m:\u001b[0m\u001b[0;34m\u001b[0m\u001b[0;34m\u001b[0m\u001b[0m\n\u001b[0;32m--> 370\u001b[0;31m             img = image_utils.load_img(\n\u001b[0m\u001b[1;32m    371\u001b[0m                 \u001b[0mfilepaths\u001b[0m\u001b[0;34m[\u001b[0m\u001b[0mj\u001b[0m\u001b[0;34m]\u001b[0m\u001b[0;34m,\u001b[0m\u001b[0;34m\u001b[0m\u001b[0;34m\u001b[0m\u001b[0m\n\u001b[1;32m    372\u001b[0m                 \u001b[0mcolor_mode\u001b[0m\u001b[0;34m=\u001b[0m\u001b[0mself\u001b[0m\u001b[0;34m.\u001b[0m\u001b[0mcolor_mode\u001b[0m\u001b[0;34m,\u001b[0m\u001b[0;34m\u001b[0m\u001b[0;34m\u001b[0m\u001b[0m\n",
            "\u001b[0;32m/usr/local/lib/python3.9/dist-packages/keras/utils/image_utils.py\u001b[0m in \u001b[0;36mload_img\u001b[0;34m(path, grayscale, color_mode, target_size, interpolation, keep_aspect_ratio)\u001b[0m\n\u001b[1;32m    420\u001b[0m         \u001b[0;32mif\u001b[0m \u001b[0misinstance\u001b[0m\u001b[0;34m(\u001b[0m\u001b[0mpath\u001b[0m\u001b[0;34m,\u001b[0m \u001b[0mpathlib\u001b[0m\u001b[0;34m.\u001b[0m\u001b[0mPath\u001b[0m\u001b[0;34m)\u001b[0m\u001b[0;34m:\u001b[0m\u001b[0;34m\u001b[0m\u001b[0;34m\u001b[0m\u001b[0m\n\u001b[1;32m    421\u001b[0m             \u001b[0mpath\u001b[0m \u001b[0;34m=\u001b[0m \u001b[0mstr\u001b[0m\u001b[0;34m(\u001b[0m\u001b[0mpath\u001b[0m\u001b[0;34m.\u001b[0m\u001b[0mresolve\u001b[0m\u001b[0;34m(\u001b[0m\u001b[0;34m)\u001b[0m\u001b[0;34m)\u001b[0m\u001b[0;34m\u001b[0m\u001b[0;34m\u001b[0m\u001b[0m\n\u001b[0;32m--> 422\u001b[0;31m         \u001b[0;32mwith\u001b[0m \u001b[0mopen\u001b[0m\u001b[0;34m(\u001b[0m\u001b[0mpath\u001b[0m\u001b[0;34m,\u001b[0m \u001b[0;34m\"rb\"\u001b[0m\u001b[0;34m)\u001b[0m \u001b[0;32mas\u001b[0m \u001b[0mf\u001b[0m\u001b[0;34m:\u001b[0m\u001b[0;34m\u001b[0m\u001b[0;34m\u001b[0m\u001b[0m\n\u001b[0m\u001b[1;32m    423\u001b[0m             \u001b[0mimg\u001b[0m \u001b[0;34m=\u001b[0m \u001b[0mpil_image\u001b[0m\u001b[0;34m.\u001b[0m\u001b[0mopen\u001b[0m\u001b[0;34m(\u001b[0m\u001b[0mio\u001b[0m\u001b[0;34m.\u001b[0m\u001b[0mBytesIO\u001b[0m\u001b[0;34m(\u001b[0m\u001b[0mf\u001b[0m\u001b[0;34m.\u001b[0m\u001b[0mread\u001b[0m\u001b[0;34m(\u001b[0m\u001b[0;34m)\u001b[0m\u001b[0;34m)\u001b[0m\u001b[0;34m)\u001b[0m\u001b[0;34m\u001b[0m\u001b[0;34m\u001b[0m\u001b[0m\n\u001b[1;32m    424\u001b[0m     \u001b[0;32melse\u001b[0m\u001b[0;34m:\u001b[0m\u001b[0;34m\u001b[0m\u001b[0;34m\u001b[0m\u001b[0m\n",
            "\u001b[0;31mKeyboardInterrupt\u001b[0m: "
          ]
        }
      ],
      "source": [
        "train_data, train_labels = train_data_gen.next()"
      ]
    },
    {
      "cell_type": "code",
      "execution_count": null,
      "metadata": {
        "colab": {
          "background_save": true,
          "base_uri": "https://localhost:8080/"
        },
        "id": "s1APvLCVshfV",
        "outputId": "83772000-8b86-4c3b-e34b-c33163739578"
      },
      "outputs": [
        {
          "name": "stdout",
          "output_type": "stream",
          "text": [
            "(5125, 180, 180, 3) (5125, 4)\n"
          ]
        }
      ],
      "source": [
        "print (train_data.shape, train_labels.shape)"
      ]
    },
    {
      "cell_type": "code",
      "execution_count": null,
      "metadata": {
        "colab": {
          "background_save": true,
          "base_uri": "https://localhost:8080/"
        },
        "id": "QYuGWbZhu1Li",
        "outputId": "949fc58b-d21a-416e-83d2-7fc1cadb7758"
      },
      "outputs": [
        {
          "name": "stdout",
          "output_type": "stream",
          "text": [
            "(10256, 180, 180, 3) (10256, 4)\n"
          ]
        }
      ],
      "source": [
        "#Performing over-sampling of the data, since the classes are imbalanced\n",
        "#after oversampling\n",
        "from imblearn.over_sampling import SMOTE\n",
        "sm = SMOTE(random_state=42)\n",
        "\n",
        "train_data, train_labels = sm.fit_resample(train_data.reshape(-1, IMG_SIZE * IMG_SIZE * 3), train_labels)\n",
        "\n",
        "train_data = train_data.reshape(-1, IMG_SIZE, IMG_SIZE, 3)\n",
        "\n",
        "print(train_data.shape, train_labels.shape)"
      ]
    },
    {
      "cell_type": "code",
      "execution_count": null,
      "metadata": {
        "colab": {
          "background_save": true
        },
        "id": "BztRhwXvu1N2"
      },
      "outputs": [],
      "source": [
        "#Splitting the data into train, test, and validation sets\n",
        "from sklearn.model_selection import train_test_split\n",
        "train_data, test_data, train_labels, test_labels = train_test_split(train_data, train_labels, test_size = 0.2, random_state=42)\n",
        "train_data, val_data, train_labels, val_labels = train_test_split(train_data, train_labels, test_size = 0.2, random_state=42)"
      ]
    },
    {
      "cell_type": "code",
      "execution_count": null,
      "metadata": {
        "colab": {
          "base_uri": "https://localhost:8080/"
        },
        "id": "IJ0LEfqgu1QM",
        "outputId": "42c5c775-152f-47ce-f5d5-bd006ff175a1"
      },
      "outputs": [
        {
          "output_type": "stream",
          "name": "stdout",
          "text": [
            "Downloading data from https://storage.googleapis.com/tensorflow/keras-applications/inception_v3/inception_v3_weights_tf_dim_ordering_tf_kernels_notop.h5\n",
            "87910968/87910968 [==============================] - 1s 0us/step\n"
          ]
        }
      ],
      "source": [
        "from tensorflow.keras.applications.inception_v3 import InceptionV3\n",
        "inception_model = InceptionV3(input_shape=(180, 180, 3), include_top=False, weights=\"imagenet\")"
      ]
    },
    {
      "cell_type": "code",
      "execution_count": null,
      "metadata": {
        "id": "b9milFc3u1Sj"
      },
      "outputs": [],
      "source": [
        "for layer in inception_model.layers:\n",
        "    layer.trainable=False"
      ]
    },
    {
      "cell_type": "code",
      "execution_count": null,
      "metadata": {
        "id": "TvIjJLLZu1Up"
      },
      "outputs": [],
      "source": [
        "from tensorflow.keras.layers import SeparableConv2D, BatchNormalization, GlobalAveragePooling2D\n",
        "custom_inception_model = Sequential([\n",
        "        inception_model,\n",
        "        Dropout(0.5),\n",
        "        GlobalAveragePooling2D(),\n",
        "        Flatten(),\n",
        "        BatchNormalization(),\n",
        "        Dense(512, activation='relu'),\n",
        "        BatchNormalization(),\n",
        "        Dropout(0.5),\n",
        "        Dense(256, activation='relu'),\n",
        "        BatchNormalization(),\n",
        "        Dropout(0.5),\n",
        "        Dense(128, activation='relu'),\n",
        "        BatchNormalization(),\n",
        "        Dropout(0.5),\n",
        "        Dense(64, activation='relu'),\n",
        "        Dropout(0.5),\n",
        "        BatchNormalization(),\n",
        "        Dense(4, activation='softmax')\n",
        "    ], name = \"inception_cnn_model\")"
      ]
    },
    {
      "cell_type": "code",
      "source": [
        "custom_inception_model.summary()"
      ],
      "metadata": {
        "colab": {
          "base_uri": "https://localhost:8080/"
        },
        "id": "EpUM8G033lkW",
        "outputId": "69327115-f84a-44ac-e66d-fe47e14e9f15"
      },
      "execution_count": null,
      "outputs": [
        {
          "output_type": "stream",
          "name": "stdout",
          "text": [
            "Model: \"inception_cnn_model\"\n",
            "_________________________________________________________________\n",
            " Layer (type)                Output Shape              Param #   \n",
            "=================================================================\n",
            " inception_v3 (Functional)   (None, 4, 4, 2048)        21802784  \n",
            "                                                                 \n",
            " dropout (Dropout)           (None, 4, 4, 2048)        0         \n",
            "                                                                 \n",
            " global_average_pooling2d (G  (None, 2048)             0         \n",
            " lobalAveragePooling2D)                                          \n",
            "                                                                 \n",
            " flatten (Flatten)           (None, 2048)              0         \n",
            "                                                                 \n",
            " batch_normalization_94 (Bat  (None, 2048)             8192      \n",
            " chNormalization)                                                \n",
            "                                                                 \n",
            " dense (Dense)               (None, 512)               1049088   \n",
            "                                                                 \n",
            " batch_normalization_95 (Bat  (None, 512)              2048      \n",
            " chNormalization)                                                \n",
            "                                                                 \n",
            " dropout_1 (Dropout)         (None, 512)               0         \n",
            "                                                                 \n",
            " dense_1 (Dense)             (None, 256)               131328    \n",
            "                                                                 \n",
            " batch_normalization_96 (Bat  (None, 256)              1024      \n",
            " chNormalization)                                                \n",
            "                                                                 \n",
            " dropout_2 (Dropout)         (None, 256)               0         \n",
            "                                                                 \n",
            " dense_2 (Dense)             (None, 128)               32896     \n",
            "                                                                 \n",
            " batch_normalization_97 (Bat  (None, 128)              512       \n",
            " chNormalization)                                                \n",
            "                                                                 \n",
            " dropout_3 (Dropout)         (None, 128)               0         \n",
            "                                                                 \n",
            " dense_3 (Dense)             (None, 64)                8256      \n",
            "                                                                 \n",
            " dropout_4 (Dropout)         (None, 64)                0         \n",
            "                                                                 \n",
            " batch_normalization_98 (Bat  (None, 64)               256       \n",
            " chNormalization)                                                \n",
            "                                                                 \n",
            " dense_4 (Dense)             (None, 4)                 260       \n",
            "                                                                 \n",
            "=================================================================\n",
            "Total params: 23,036,644\n",
            "Trainable params: 1,227,844\n",
            "Non-trainable params: 21,808,800\n",
            "_________________________________________________________________\n"
          ]
        }
      ]
    },
    {
      "cell_type": "code",
      "execution_count": null,
      "metadata": {
        "colab": {
          "background_save": true
        },
        "id": "8zh8N-dKu1W_"
      },
      "outputs": [],
      "source": [
        "#Defining a custom callback function to stop training our model when accuracy goes above 99%\n",
        "from tensorflow.keras.callbacks import ReduceLROnPlateau\n",
        "\n",
        "class MyCallback(tf.keras.callbacks.Callback):\n",
        "    def on_epoch_end(self, epoch, logs={}):\n",
        "        if logs.get('acc') > 0.99:\n",
        "            print(\"\\nReached accuracy threshold! Terminating training.\")\n",
        "            self.model.stop_training = True\n",
        "\n",
        "my_callback = MyCallback()\n",
        "\n",
        "#ReduceLROnPlateau to stabilize the training process of the model\n",
        "rop_callback = ReduceLROnPlateau(monitor=\"val_loss\", patience=3)"
      ]
    },
    {
      "cell_type": "code",
      "execution_count": null,
      "metadata": {
        "colab": {
          "background_save": true
        },
        "id": "4jnpdrvJu1ZX"
      },
      "outputs": [],
      "source": [
        "METRICS = [tf.keras.metrics.CategoricalAccuracy(name='acc'),\n",
        "           tf.keras.metrics.AUC(name='auc')]\n",
        "\n",
        "CALLBACKS = [my_callback, rop_callback]\n",
        "\n",
        "custom_inception_model.compile(optimizer='rmsprop',\n",
        "                              loss=tf.losses.CategoricalCrossentropy(),\n",
        "                              metrics=METRICS)"
      ]
    },
    {
      "cell_type": "code",
      "execution_count": null,
      "metadata": {
        "colab": {
          "background_save": true,
          "base_uri": "https://localhost:8080/"
        },
        "id": "breoAWPUvU9f",
        "outputId": "86599cf0-39b3-481c-bf4e-f2c02795275f"
      },
      "outputs": [
        {
          "name": "stdout",
          "output_type": "stream",
          "text": [
            "Epoch 1/30\n",
            "206/206 [==============================] - 652s 3s/step - loss: 1.4384 - acc: 0.4026 - auc: 0.6677 - val_loss: 0.8976 - val_acc: 0.5832 - val_auc: 0.8533 - lr: 0.0010\n",
            "Epoch 2/30\n",
            "206/206 [==============================] - 646s 3s/step - loss: 0.9224 - acc: 0.5793 - auc: 0.8449 - val_loss: 0.7006 - val_acc: 0.6697 - val_auc: 0.9059 - lr: 0.0010\n",
            "Epoch 3/30\n",
            "206/206 [==============================] - 641s 3s/step - loss: 0.7940 - acc: 0.6255 - auc: 0.8823 - val_loss: 0.6495 - val_acc: 0.6849 - val_auc: 0.9177 - lr: 0.0010\n",
            "Epoch 4/30\n",
            "206/206 [==============================] - 641s 3s/step - loss: 0.7125 - acc: 0.6687 - auc: 0.9059 - val_loss: 0.5850 - val_acc: 0.7307 - val_auc: 0.9357 - lr: 0.0010\n",
            "Epoch 5/30\n",
            "206/206 [==============================] - 639s 3s/step - loss: 0.6671 - acc: 0.6998 - auc: 0.9198 - val_loss: 0.5657 - val_acc: 0.7294 - val_auc: 0.9391 - lr: 0.0010\n",
            "Epoch 6/30\n",
            "206/206 [==============================] - 647s 3s/step - loss: 0.6318 - acc: 0.7195 - auc: 0.9276 - val_loss: 0.5415 - val_acc: 0.7416 - val_auc: 0.9443 - lr: 0.0010\n",
            "Epoch 7/30\n",
            "206/206 [==============================] - 639s 3s/step - loss: 0.5958 - acc: 0.7408 - auc: 0.9361 - val_loss: 0.5123 - val_acc: 0.7562 - val_auc: 0.9506 - lr: 0.0010\n",
            "Epoch 8/30\n",
            "206/206 [==============================] - 640s 3s/step - loss: 0.5834 - acc: 0.7486 - auc: 0.9391 - val_loss: 0.5078 - val_acc: 0.7623 - val_auc: 0.9517 - lr: 0.0010\n",
            "Epoch 9/30\n",
            "206/206 [==============================] - 653s 3s/step - loss: 0.5481 - acc: 0.7638 - auc: 0.9461 - val_loss: 0.4635 - val_acc: 0.7855 - val_auc: 0.9603 - lr: 0.0010\n",
            "Epoch 10/30\n",
            "206/206 [==============================] - 621s 3s/step - loss: 0.5316 - acc: 0.7725 - auc: 0.9491 - val_loss: 0.4675 - val_acc: 0.7873 - val_auc: 0.9597 - lr: 0.0010\n",
            "Epoch 11/30\n",
            "206/206 [==============================] - 640s 3s/step - loss: 0.5041 - acc: 0.7919 - auc: 0.9546 - val_loss: 0.4399 - val_acc: 0.8062 - val_auc: 0.9639 - lr: 0.0010\n",
            "Epoch 12/30\n",
            "206/206 [==============================] - 638s 3s/step - loss: 0.4775 - acc: 0.8051 - auc: 0.9596 - val_loss: 0.3900 - val_acc: 0.8269 - val_auc: 0.9717 - lr: 0.0010\n",
            "Epoch 13/30\n",
            "206/206 [==============================] - 639s 3s/step - loss: 0.4550 - acc: 0.8245 - auc: 0.9632 - val_loss: 0.3742 - val_acc: 0.8306 - val_auc: 0.9741 - lr: 0.0010\n",
            "Epoch 14/30\n",
            "206/206 [==============================] - 640s 3s/step - loss: 0.4512 - acc: 0.8231 - auc: 0.9637 - val_loss: 0.3774 - val_acc: 0.8336 - val_auc: 0.9739 - lr: 0.0010\n",
            "Epoch 15/30\n",
            "206/206 [==============================] - 640s 3s/step - loss: 0.4294 - acc: 0.8281 - auc: 0.9666 - val_loss: 0.3647 - val_acc: 0.8342 - val_auc: 0.9751 - lr: 0.0010\n",
            "Epoch 16/30\n",
            "206/206 [==============================] - 620s 3s/step - loss: 0.4142 - acc: 0.8426 - auc: 0.9693 - val_loss: 0.3547 - val_acc: 0.8446 - val_auc: 0.9768 - lr: 0.0010\n",
            "Epoch 17/30\n",
            "206/206 [==============================] - 638s 3s/step - loss: 0.4054 - acc: 0.8488 - auc: 0.9704 - val_loss: 0.3416 - val_acc: 0.8562 - val_auc: 0.9786 - lr: 0.0010\n",
            "Epoch 18/30\n",
            "206/206 [==============================] - 638s 3s/step - loss: 0.3848 - acc: 0.8533 - auc: 0.9733 - val_loss: 0.3381 - val_acc: 0.8592 - val_auc: 0.9791 - lr: 0.0010\n",
            "Epoch 19/30\n",
            "206/206 [==============================] - 640s 3s/step - loss: 0.3721 - acc: 0.8586 - auc: 0.9750 - val_loss: 0.3318 - val_acc: 0.8592 - val_auc: 0.9797 - lr: 0.0010\n",
            "Epoch 20/30\n",
            "206/206 [==============================] - 630s 3s/step - loss: 0.3611 - acc: 0.8665 - auc: 0.9758 - val_loss: 0.3485 - val_acc: 0.8477 - val_auc: 0.9781 - lr: 0.0010\n",
            "Epoch 21/30\n",
            "206/206 [==============================] - 628s 3s/step - loss: 0.3469 - acc: 0.8720 - auc: 0.9778 - val_loss: 0.3417 - val_acc: 0.8562 - val_auc: 0.9795 - lr: 0.0010\n",
            "Epoch 22/30\n",
            "206/206 [==============================] - 630s 3s/step - loss: 0.3317 - acc: 0.8772 - auc: 0.9795 - val_loss: 0.3085 - val_acc: 0.8678 - val_auc: 0.9826 - lr: 0.0010\n",
            "Epoch 23/30\n",
            "206/206 [==============================] - 629s 3s/step - loss: 0.3434 - acc: 0.8766 - auc: 0.9781 - val_loss: 0.3104 - val_acc: 0.8745 - val_auc: 0.9823 - lr: 0.0010\n",
            "Epoch 24/30\n",
            "206/206 [==============================] - 629s 3s/step - loss: 0.3207 - acc: 0.8824 - auc: 0.9804 - val_loss: 0.2876 - val_acc: 0.8860 - val_auc: 0.9849 - lr: 0.0010\n",
            "Epoch 25/30\n",
            "206/206 [==============================] - 631s 3s/step - loss: 0.3085 - acc: 0.8856 - auc: 0.9820 - val_loss: 0.2884 - val_acc: 0.8781 - val_auc: 0.9849 - lr: 0.0010\n",
            "Epoch 26/30\n",
            "206/206 [==============================] - 634s 3s/step - loss: 0.2979 - acc: 0.8946 - auc: 0.9832 - val_loss: 0.2988 - val_acc: 0.8720 - val_auc: 0.9840 - lr: 0.0010\n",
            "Epoch 27/30\n",
            "206/206 [==============================] - 629s 3s/step - loss: 0.2849 - acc: 0.8984 - auc: 0.9846 - val_loss: 0.2999 - val_acc: 0.8757 - val_auc: 0.9839 - lr: 0.0010\n",
            "Epoch 28/30\n",
            "206/206 [==============================] - 630s 3s/step - loss: 0.2496 - acc: 0.9118 - auc: 0.9879 - val_loss: 0.2749 - val_acc: 0.8873 - val_auc: 0.9861 - lr: 1.0000e-04\n",
            "Epoch 29/30\n",
            "206/206 [==============================] - 629s 3s/step - loss: 0.2520 - acc: 0.9121 - auc: 0.9874 - val_loss: 0.2695 - val_acc: 0.8873 - val_auc: 0.9869 - lr: 1.0000e-04\n",
            "Epoch 30/30\n",
            "206/206 [==============================] - 610s 3s/step - loss: 0.2279 - acc: 0.9197 - auc: 0.9901 - val_loss: 0.2653 - val_acc: 0.8909 - val_auc: 0.9874 - lr: 1.0000e-04\n"
          ]
        }
      ],
      "source": [
        "#Fit the training data to the model and validate it using the validation data\n",
        "EPOCHS = 20\n",
        "\n",
        "history = custom_inception_model.fit(train_data, train_labels, validation_data=(val_data, val_labels), callbacks=CALLBACKS, epochs=EPOCHS)\n"
      ]
    },
    {
      "cell_type": "code",
      "execution_count": null,
      "metadata": {
        "colab": {
          "background_save": true
        },
        "id": "3ngZyFqnvVBJ",
        "outputId": "b7b2d2c9-f2c8-432f-dbfe-426e9cdc4924"
      },
      "outputs": [
        {
          "data": {
            "image/png": "[encoded data removed]",
            "text/plain": [
              "<Figure size 2000x300 with 2 Axes>"
            ]
          },
          "metadata": {},
          "output_type": "display_data"
        }
      ],
      "source": [
        "fig, ax = plt.subplots(1, 2, figsize=(20, 3))\n",
        "ax = ax.ravel()\n",
        "\n",
        "for i, met in enumerate(['acc', 'loss']):\n",
        "    ax[i].plot(history.history[met])\n",
        "    ax[i].plot(history.history['val_' + met])\n",
        "    ax[i].set_title('Model {}'.format(met))\n",
        "    ax[i].set_xlabel('epochs')\n",
        "    ax[i].set_ylabel(met)\n",
        "    ax[i].legend(['train', 'val'])"
      ]
    },
    {
      "cell_type": "code",
      "execution_count": null,
      "metadata": {
        "colab": {
          "background_save": true
        },
        "id": "4zf7785kvVEB",
        "outputId": "9664eea5-55f9-45c7-faba-e5188a9300c5"
      },
      "outputs": [
        {
          "name": "stdout",
          "output_type": "stream",
          "text": [
            "65/65 [==============================] - 128s 2s/step - loss: 0.3746 - acc: 0.8519 - auc: 0.9746\n",
            "Testing Accuracy: 85.19%\n"
          ]
        }
      ],
      "source": [
        "test_scores = custom_inception_model.evaluate(test_data, test_labels)\n",
        "\n",
        "#print(\"Training Accuracy: %.2f%%\"%(train_scores[1] * 100))\n",
        "#print(\"Validation Accuracy: %.2f%%\"%(val_scores[1] * 100))\n",
        "print(\"Testing Accuracy: %.2f%%\"%(test_scores[1] * 100))"
      ]
    },
    {
      "cell_type": "code",
      "execution_count": null,
      "metadata": {
        "colab": {
          "background_save": true
        },
        "id": "MPPKD6FxvVG2"
      },
      "outputs": [],
      "source": [
        "pred_labels = custom_inception_model.predict(test_data)"
      ]
    },
    {
      "cell_type": "code",
      "execution_count": null,
      "metadata": {
        "colab": {
          "background_save": true
        },
        "id": "h_qPxws5vVJv"
      },
      "outputs": [],
      "source": [
        "#Plot the confusion matrix to understand the classification in detail\n",
        "from sklearn.metrics import classification_report, confusion_matrix\n",
        "import seaborn as sns\n",
        "\n",
        "pred_ls = np.argmax(pred_labels, axis=1)\n",
        "test_ls = np.argmax(test_labels, axis=1)\n",
        "\n",
        "conf_arr = confusion_matrix(test_ls, pred_ls)\n",
        "\n",
        "plt.figure(figsize=(8, 6), dpi=80, facecolor='w', edgecolor='k')\n",
        "\n",
        "ax = sns.heatmap(conf_arr, cmap='Greens', annot=True, fmt='d', xticklabels= classnames,\n",
        "                yticklabels=classnames)\n",
        "\n",
        "plt.title('Alzheimer\\'s Disease Diagnosis')\n",
        "plt.xlabel('Prediction')\n",
        "plt.ylabel('Truth')\n",
        "plt.show(ax)"
      ]
    },
    {
      "cell_type": "code",
      "execution_count": null,
      "metadata": {
        "colab": {
          "background_save": true
        },
        "id": "J5FcyCqavVOa",
        "outputId": "7258f0a7-d800-46eb-cee4-e2f5dbfe29d3"
      },
      "outputs": [
        {
          "name": "stderr",
          "output_type": "stream",
          "text": [
            "WARNING:absl:Found untraced functions such as _update_step_xla, _jit_compiled_convolution_op, _jit_compiled_convolution_op, _jit_compiled_convolution_op, _jit_compiled_convolution_op while saving (showing 5 of 95). These functions will not be directly callable after loading.\n",
            "WARNING:absl:Optimization option OPTIMIZE_FOR_SIZE is deprecated, please use optimizations=[Optimize.DEFAULT] instead.\n",
            "WARNING:absl:Optimization option OPTIMIZE_FOR_SIZE is deprecated, please use optimizations=[Optimize.DEFAULT] instead.\n",
            "WARNING:absl:Optimization option OPTIMIZE_FOR_SIZE is deprecated, please use optimizations=[Optimize.DEFAULT] instead.\n"
          ]
        }
      ],
      "source": [
        "export_dir = '/kaggle/working/'\n",
        "tf.saved_model.save(custom_inception_model, export_dir)\n",
        "import pathlib\n",
        "tflite_model_name = \"alzahimer.tflite\"\n",
        "# Convert the model.\n",
        "converter = tf.lite.TFLiteConverter.from_saved_model(export_dir)\n",
        "converter.optimizations = [tf.lite.Optimize.OPTIMIZE_FOR_SIZE]\n",
        "tflite_model = converter.convert()"
      ]
    },
    {
      "cell_type": "code",
      "execution_count": null,
      "metadata": {
        "colab": {
          "background_save": true
        },
        "id": "RtHoEcTdvnN9",
        "outputId": "95971170-40db-4620-dc70-69b1c49bded1"
      },
      "outputs": [
        {
          "data": {
            "text/plain": [
              "23327632"
            ]
          },
          "execution_count": 22,
          "metadata": {},
          "output_type": "execute_result"
        }
      ],
      "source": [
        "#save model as tflite for mobile app (Flutter)\n",
        "tflite_model_file = pathlib.Path(tflite_model_name)\n",
        "tflite_model_file.write_bytes(tflite_model)"
      ]
    },
    {
      "cell_type": "code",
      "execution_count": null,
      "metadata": {
        "colab": {
          "background_save": true
        },
        "id": "6Y0p5jrTvnQg"
      },
      "outputs": [],
      "source": [
        "import tensorflow as tf\n",
        "#save model as hdf5 for web app (streamlit)\n",
        "tf.keras.models.save_model(custom_inception_model,'alzahimer.hdf5')"
      ]
    },
    {
      "cell_type": "code",
      "execution_count": null,
      "metadata": {
        "colab": {
          "background_save": true
        },
        "id": "LJozH1zqvnTK"
      },
      "outputs": [],
      "source": []
    },
    {
      "cell_type": "code",
      "execution_count": null,
      "metadata": {
        "colab": {
          "background_save": true
        },
        "id": "IOLrrwuAvnVc"
      },
      "outputs": [],
      "source": []
    },
    {
      "cell_type": "code",
      "execution_count": null,
      "metadata": {
        "colab": {
          "background_save": true
        },
        "id": "ZIMssY5vvnX1"
      },
      "outputs": [],
      "source": []
    }
  ],
  "metadata": {
    "colab": {
      "provenance": []
    },
    "gpuClass": "standard",
    "kernelspec": {
      "display_name": "Python 3",
      "name": "python3"
    },
    "language_info": {
      "name": "python"
    }
  },
  "nbformat": 4,
  "nbformat_minor": 0
}